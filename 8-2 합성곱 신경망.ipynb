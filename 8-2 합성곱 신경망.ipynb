{
 "cells": [
  {
   "cell_type": "code",
   "execution_count": 2,
   "metadata": {
    "id": "CIJs5VcD7Q2d"
   },
   "outputs": [],
   "source": [
    "import tensorflow as tf\n",
    "tf.keras.utils.set_random_seed(42)\n",
    "tf.config.experimental.enable_op_determinism()\n",
    "\n",
    "from tensorflow import keras\n",
    "\n",
    "#   패키지 설치\n",
    "#   pip install tensorflow\n",
    "#   pip install keras"
   ]
  },
  {
   "cell_type": "markdown",
   "metadata": {
    "id": "8b138d49-3819-4b0d-90df-087079cf74a5"
   },
   "source": [
    "# (패션 MNIST)데이터\n",
    "- 0: 티셔츠, 1: 바지, 2: 스웨터, 3: 드레스, 4: 코트\n",
    "- 5: 샌들, 6: 셔츠, 7: 스니커즈, 8: 가방, 9: 부츠\n",
    "\n",
    "+ 데이터: 70000개"
   ]
  },
  {
   "cell_type": "markdown",
   "metadata": {
    "id": "8bd61251-9e57-495c-85a2-2cc097307ceb",
    "tags": []
   },
   "source": [
    "### 데이터 분할(훈련 + 테스트)"
   ]
  },
  {
   "cell_type": "code",
   "execution_count": 3,
   "metadata": {
    "colab": {
     "base_uri": "https://localhost:8080/"
    },
    "id": "1698eb38-d8b7-4ad3-a772-283456825f19",
    "outputId": "eb364b06-d2c0-4181-f634-5b392506908d"
   },
   "outputs": [],
   "source": [
    "(xtrain, ytrain), (xtest, ytest) =\\\n",
    "    keras.datasets.fashion_mnist.load_data()"
   ]
  },
  {
   "cell_type": "markdown",
   "metadata": {
    "id": "b877b24e-67fa-4c26-b442-ab967efb7e84"
   },
   "source": [
    "### 데이터 스케일링(정규화) - 합성곱"
   ]
  },
  {
   "cell_type": "code",
   "execution_count": 4,
   "metadata": {
    "id": "081cf40b-cf88-471b-b215-fe04c4881a83"
   },
   "outputs": [],
   "source": [
    "xtrain_scaled = xtrain.reshape(-1, 28, 28, 1) / 255\n",
    "xtest_scaled = xtest.reshape(-1, 28, 28, 1) / 255"
   ]
  },
  {
   "cell_type": "markdown",
   "metadata": {
    "id": "15299e97-3ab4-48dd-bf64-2ae53949af2a"
   },
   "source": [
    "### 데이터 분할(훈련 + 검증)"
   ]
  },
  {
   "cell_type": "code",
   "execution_count": 5,
   "metadata": {
    "colab": {
     "base_uri": "https://localhost:8080/"
    },
    "id": "b77f1eeb-f6ac-47ee-b71e-7fde3161b2bf",
    "outputId": "25988277-1a6b-47cc-ab1e-5a8984f7a774"
   },
   "outputs": [
    {
     "name": "stdout",
     "output_type": "stream",
     "text": [
      "(48000, 28, 28, 1) (12000, 28, 28, 1)\n"
     ]
    }
   ],
   "source": [
    "Xtrain, Xtest, Ytrain, Ytest = train_test_split(\n",
    " \n",
    "    xtrain_scaled, ytrain             # x: 특성, y: 타겟\n",
    "    , test_size = 0.2       # 검증 데이터 비율(0~1)\n",
    "#    , stratify = target      # 훈련 데이터 클래스 비율 = 검증 데이터 클래스 비율\n",
    "    , random_state = 42    # 랜덤 시드\n",
    "    )\n",
    "    \n",
    "print(Xtrain.shape, Xtest.shape)    # (훈련/검증 데이터 샘플 갯수, 특성 갯수)"
   ]
  },
  {
   "cell_type": "markdown",
   "metadata": {
    "id": "O6D-k3QzAltH"
   },
   "source": [
    "# 모델 생성"
   ]
  },
  {
   "cell_type": "markdown",
   "metadata": {
    "id": "wexQeapYzeJ3"
   },
   "source": [
    "### 합성곱 신경망"
   ]
  },
  {
   "cell_type": "code",
   "execution_count": 6,
   "metadata": {
    "id": "k2JFpkj37oS6"
   },
   "outputs": [],
   "source": [
    "model = keras.Sequential(name='CNN')    # 모델 생성\n",
    "\n",
    "\n",
    "# 합성곱 층 추가\n",
    "model.add(\n",
    "    keras.layers.Conv2D(\n",
    "        32  # 필터(도장) 개수\n",
    "        , kernel_size = 3    # 필터(도장) 크기\n",
    "        , activation='relu'    # 활성화 함수(소프트맥스/시그모이드/렐루)\n",
    "#        , padding = 'valid'    # 패딩(밸리드, 세임)\n",
    "        , padding = 'same'    # 패딩(밸리드, 세임)\n",
    "        , strides = 1    # 스트라이드\n",
    "        , input_shape = (28, 28, 1)\n",
    "        )\n",
    ")\n",
    "\n",
    "# 풀링 층 추가(최대)\n",
    "model.add(keras.layers.MaxPooling2D(2)) # 필터 크기\n",
    "\n",
    "# 풀링 층 추가(평균)\n",
    "# keras.layers.AveragePooling2D(\n",
    "#     2 # 필터 크기\n",
    "#     )"
   ]
  },
  {
   "cell_type": "code",
   "execution_count": 7,
   "metadata": {
    "id": "TmQIY8UGEtBo"
   },
   "outputs": [],
   "source": [
    "# 합성곱 층 추가\n",
    "model.add(\n",
    "    keras.layers.Conv2D(\n",
    "        64  # 필터(도장) 개수\n",
    "        , kernel_size = 3    # 필터(도장) 크기\n",
    "        , activation='relu'    # 활성화 함수(소프트맥스/시그모이드/렐루)\n",
    "#        , padding = 'valid'    # 패딩(밸리드, 세임)\n",
    "        , padding = 'same'    # 패딩(밸리드, 세임)\n",
    "        , strides = 1    # 스트라이드\n",
    "    )\n",
    ")\n",
    "\n",
    "# 풀링 층 추가(최대)\n",
    "model.add(\n",
    "    keras.layers.MaxPooling2D(\n",
    "        2 # 필터 크기\n",
    "    )\n",
    ")"
   ]
  },
  {
   "cell_type": "markdown",
   "metadata": {
    "id": "mlUcmHWL9Hlo"
   },
   "source": [
    "### 심층 신경망"
   ]
  },
  {
   "cell_type": "code",
   "execution_count": 8,
   "metadata": {
    "id": "6I0aLHJq9V85"
   },
   "outputs": [],
   "source": [
    "# 층 추가(다차원 데이터 → 1차원 데이터)\n",
    "model.add(keras.layers.Flatten())\n",
    "\n",
    "# 은닉층 추가\n",
    "model.add(\n",
    "    keras.layers.Dense(\n",
    "    100\n",
    "    , activation = 'relu'    # 활성화 함수(렐루)\n",
    "    )\n",
    ")\n",
    "\n",
    "# 층 추가(드롭아웃)\n",
    "model.add( keras.layers.Dropout(0.4) )    # 0 ~ 1\n",
    "\n",
    "# 출력층 추가\n",
    "model.add(\n",
    "    keras.layers.Dense(\n",
    "    10\n",
    "    , activation = 'softmax'    # 활성화 함수(소프트맥스/시그모이드/렐루)\n",
    "    )\n",
    ")"
   ]
  },
  {
   "cell_type": "code",
   "execution_count": 9,
   "metadata": {
    "colab": {
     "base_uri": "https://localhost:8080/"
    },
    "id": "lTkKOecV93G4",
    "outputId": "e4e6915a-c1ae-403e-fa15-7dea939c0842"
   },
   "outputs": [
    {
     "name": "stdout",
     "output_type": "stream",
     "text": [
      "Model: \"CNN\"\n",
      "_________________________________________________________________\n",
      " Layer (type)                Output Shape              Param #   \n",
      "=================================================================\n",
      " conv2d (Conv2D)             (None, 28, 28, 32)        320       \n",
      "                                                                 \n",
      " max_pooling2d (MaxPooling2D  (None, 14, 14, 32)       0         \n",
      " )                                                               \n",
      "                                                                 \n",
      " conv2d_1 (Conv2D)           (None, 14, 14, 64)        18496     \n",
      "                                                                 \n",
      " max_pooling2d_1 (MaxPooling  (None, 7, 7, 64)         0         \n",
      " 2D)                                                             \n",
      "                                                                 \n",
      " flatten (Flatten)           (None, 3136)              0         \n",
      "                                                                 \n",
      " dense (Dense)               (None, 100)               313700    \n",
      "                                                                 \n",
      " dropout (Dropout)           (None, 100)               0         \n",
      "                                                                 \n",
      " dense_1 (Dense)             (None, 10)                1010      \n",
      "                                                                 \n",
      "=================================================================\n",
      "Total params: 333,526\n",
      "Trainable params: 333,526\n",
      "Non-trainable params: 0\n",
      "_________________________________________________________________\n"
     ]
    }
   ],
   "source": [
    "# 모델 정보\n",
    "model.summary()\n",
    "# 층 이름(종류)    출력 크기(미니 배치 샘플 개수, 뉴런 개수)    파라미터 개수 = ( (특성)뉴런 개수+1 ) X 뉴런 개수\n",
    "# 전체 파라미터 개수\n",
    "# 훈련 파라미터 개수\n",
    "# 훈련X 파라미터 개수"
   ]
  },
  {
   "cell_type": "code",
   "execution_count": 10,
   "metadata": {
    "colab": {
     "base_uri": "https://localhost:8080/",
     "height": 976
    },
    "id": "QvQS8L-m99oH",
    "outputId": "e61bd3d7-a703-49cb-97fb-765dda17d0c8"
   },
   "outputs": [
    {
     "name": "stdout",
     "output_type": "stream",
     "text": [
      "You must install pydot (`pip install pydot`) and install graphviz (see instructions at https://graphviz.gitlab.io/download/) for plot_model/model_to_dot to work.\n"
     ]
    }
   ],
   "source": [
    "# 모델 정보(시각화)\n",
    "keras.utils.plot_model(\n",
    "    model    # 모델 이름\n",
    "    , show_shapes = True    # 데이터 크기 추가\n",
    "    )\n",
    "\n",
    "# 층 이름 ｜ 입력 데이터 크기\n",
    "#   종류  ｜ 출력 데이터 크기"
   ]
  },
  {
   "cell_type": "markdown",
   "metadata": {
    "id": "RIizGQUixF38"
   },
   "source": [
    "# 모델 설정＆학습"
   ]
  },
  {
   "cell_type": "code",
   "execution_count": 11,
   "metadata": {
    "colab": {
     "base_uri": "https://localhost:8080/"
    },
    "id": "uncYqqBZzRLT",
    "outputId": "63f720cc-575c-4369-81f7-6312554a9621"
   },
   "outputs": [
    {
     "name": "stdout",
     "output_type": "stream",
     "text": [
      "Epoch 1/20\n",
      "1500/1500 [==============================] - 103s 63ms/step - loss: 0.5387 - accuracy: 0.8078 - val_loss: 0.3370 - val_accuracy: 0.8760\n",
      "Epoch 2/20\n",
      "1500/1500 [==============================] - 72s 48ms/step - loss: 0.3553 - accuracy: 0.8719 - val_loss: 0.2767 - val_accuracy: 0.8968\n",
      "Epoch 3/20\n",
      "1500/1500 [==============================] - 69s 46ms/step - loss: 0.3046 - accuracy: 0.8903 - val_loss: 0.2624 - val_accuracy: 0.9030\n",
      "Epoch 4/20\n",
      "1500/1500 [==============================] - 69s 46ms/step - loss: 0.2721 - accuracy: 0.9001 - val_loss: 0.2366 - val_accuracy: 0.9117\n",
      "Epoch 5/20\n",
      "1500/1500 [==============================] - 69s 46ms/step - loss: 0.2430 - accuracy: 0.9103 - val_loss: 0.2558 - val_accuracy: 0.9087\n",
      "Epoch 6/20\n",
      "1500/1500 [==============================] - 69s 46ms/step - loss: 0.2256 - accuracy: 0.9174 - val_loss: 0.2224 - val_accuracy: 0.9193\n",
      "Epoch 7/20\n",
      "1500/1500 [==============================] - 69s 46ms/step - loss: 0.2090 - accuracy: 0.9219 - val_loss: 0.2233 - val_accuracy: 0.9175\n",
      "Epoch 8/20\n",
      "1500/1500 [==============================] - 69s 46ms/step - loss: 0.1908 - accuracy: 0.9290 - val_loss: 0.2201 - val_accuracy: 0.9237\n",
      "Epoch 9/20\n",
      "1500/1500 [==============================] - 69s 46ms/step - loss: 0.1796 - accuracy: 0.9326 - val_loss: 0.2306 - val_accuracy: 0.9208\n",
      "Epoch 10/20\n",
      "1500/1500 [==============================] - 69s 46ms/step - loss: 0.1675 - accuracy: 0.9368 - val_loss: 0.2307 - val_accuracy: 0.9246\n"
     ]
    },
    {
     "data": {
      "text/plain": [
       "dict_keys(['loss', 'accuracy', 'val_loss', 'val_accuracy'])"
      ]
     },
     "execution_count": 11,
     "metadata": {},
     "output_type": "execute_result"
    }
   ],
   "source": [
    "#(옵티마이저)변수 = 옵티마이저\n",
    "\n",
    "# 모델 설정\n",
    "model.compile(\n",
    "    loss = 'sparse_categorical_crossentropy'    # 손실 함수(원-핫 인코딩 + 이진/다중 분류)\n",
    "#   loss = 'binary/categorical_crossentropy'           # 손실 함수(이진/다중 분류)\n",
    "    , metrics = 'accuracy'                             # 성능 지표(정확도)\n",
    "#    , optimizer = (옵티마이저)변수\n",
    "   , optimizer = 'adam'\n",
    "    )\n",
    "\n",
    "# 최적화 값 저장\n",
    "mc = keras.callbacks.ModelCheckpoint(\n",
    "    'best-cnn-model.h5'                  # 모델\n",
    "    , monitor = 'val_loss'         # 성능 지표\n",
    "    , save_weights_only = False    # 전체(True: 가중치＆절편)\n",
    "    , save_best_only = True        # 가장 낮은 검증 점수  \n",
    "    )\n",
    "\n",
    "# 조기 종료\n",
    "es = keras.callbacks.EarlyStopping(\n",
    "    monitor = 'val_loss'    # 성능 지표\n",
    "    , patience = 2          # 성능 지표가 향상 되지 않는 최대 에포크 횟수\n",
    "   , restore_best_weights = True    # 최적화 가중치 복원\n",
    "    )\n",
    "\n",
    "# early_stopping_cb.stopped_epoch    # 조기 종료 에포크 횟수\n",
    "\n",
    "# 모델 학습(경사 하강법)\n",
    "history = model.fit(\n",
    "    Xtrain, Ytrain\n",
    "    , epochs = 20\n",
    "    , batch_size = None    # 미니배치 샘플 개수(32)\n",
    "    , verbose = 1          # 훈련 과정( 0: 생략, 2: 진행 막대 생략 )\n",
    "    , validation_data = (Xtest, Ytest)    # 검증 데이터 - 손실, 정확도 추가\n",
    "    , callbacks = [mc, es]    # 콜백\n",
    "    )\n",
    "\n",
    "history.history.keys()    # 성능 지표 목록(손실, 정확도)"
   ]
  },
  {
   "cell_type": "markdown",
   "metadata": {
    "id": "mb5w-hD70d_K"
   },
   "source": [
    "### 그래프"
   ]
  },
  {
   "cell_type": "code",
   "execution_count": 12,
   "metadata": {
    "colab": {
     "base_uri": "https://localhost:8080/",
     "height": 279
    },
    "id": "aIXWNT3lz9mL",
    "outputId": "09830e7f-6772-47cb-f6eb-8ec3ff06cb60"
   },
   "outputs": [
    {
     "data": {
      "image/png": "[encoded data removed]",
      "text/plain": [
       "<Figure size 432x288 with 1 Axes>"
      ]
     },
     "metadata": {
      "needs_background": "light"
     },
     "output_type": "display_data"
    }
   ],
   "source": [
    "plt.plot(history.history['loss'])\n",
    "plt.plot(history.history['val_loss'])\n",
    "\n",
    "plt.xlabel('epoch')\n",
    "plt.ylabel('loss')\n",
    "\n",
    "plt.legend(['train', 'val'])\n",
    "\n",
    "plt.show()"
   ]
  },
  {
   "cell_type": "code",
   "execution_count": 13,
   "metadata": {
    "colab": {
     "base_uri": "https://localhost:8080/"
    },
    "id": "G51EWC9T0ssg",
    "outputId": "43e00829-d109-4f9e-a523-9d436f06915a"
   },
   "outputs": [
    {
     "name": "stdout",
     "output_type": "stream",
     "text": [
      "375/375 [==============================] - 8s 11ms/step - loss: 0.2201 - accuracy: 0.9237\n"
     ]
    },
    {
     "data": {
      "text/plain": [
       "[0.2201475203037262, 0.9237499833106995]"
      ]
     },
     "execution_count": 13,
     "metadata": {},
     "output_type": "execute_result"
    }
   ],
   "source": [
    "model.evaluate(Xtest, Ytest)    # 검증 데이터 - 손실 함수, 성능 지표"
   ]
  },
  {
   "cell_type": "markdown",
   "metadata": {
    "id": "JqtgP_IN1I6Z"
   },
   "source": [
    "# 모델 예측"
   ]
  },
  {
   "cell_type": "code",
   "execution_count": 14,
   "metadata": {
    "colab": {
     "base_uri": "https://localhost:8080/",
     "height": 265
    },
    "id": "CWJDGlHQ1baC",
    "outputId": "f5aed8a7-0a13-4ab3-b11e-8e18d46368dd"
   },
   "outputs": [
    {
     "data": {
      "image/png": "[encoded data removed]",
      "text/plain": [
       "<Figure size 432x288 with 1 Axes>"
      ]
     },
     "metadata": {
      "needs_background": "light"
     },
     "output_type": "display_data"
    }
   ],
   "source": [
    "# 검증 데이터 - 첫 번째 샘플\n",
    "plt.imshow(Xtest[0].reshape(28, 28), cmap='gray_r')\n",
    "plt.show()"
   ]
  },
  {
   "cell_type": "code",
   "execution_count": 15,
   "metadata": {
    "colab": {
     "base_uri": "https://localhost:8080/"
    },
    "id": "WJWz7EZk1r7p",
    "outputId": "38887987-80c4-4be9-ebb1-5081303cbe05"
   },
   "outputs": [
    {
     "name": "stdout",
     "output_type": "stream",
     "text": [
      "1/1 [==============================] - 0s 157ms/step\n"
     ]
    },
    {
     "data": {
      "text/plain": [
       "array([[9.2108240e-14, 6.0243458e-26, 1.4165699e-18, 4.5489407e-19,\n",
       "        1.3565729e-16, 5.5897272e-18, 4.4351840e-18, 8.2702292e-17,\n",
       "        1.0000000e+00, 3.7826729e-19]], dtype=float32)"
      ]
     },
     "execution_count": 15,
     "metadata": {},
     "output_type": "execute_result"
    }
   ],
   "source": [
    "pred = model.predict(Xtest[0:1])\n",
    "\n",
    "pred"
   ]
  },
  {
   "cell_type": "markdown",
   "metadata": {
    "id": "2dRBqZ8O1yyZ"
   },
   "source": [
    "### 그래프"
   ]
  },
  {
   "cell_type": "code",
   "execution_count": 16,
   "metadata": {
    "colab": {
     "base_uri": "https://localhost:8080/",
     "height": 279
    },
    "id": "SrOgI2qW2ibJ",
    "outputId": "aa96f12b-a3dc-4d11-f81a-4e20f2f34872"
   },
   "outputs": [
    {
     "data": {
      "image/png": "[encoded data removed]",
      "text/plain": [
       "<Figure size 432x288 with 1 Axes>"
      ]
     },
     "metadata": {
      "needs_background": "light"
     },
     "output_type": "display_data"
    }
   ],
   "source": [
    "plt.bar(range(1, 11), pred[0])\n",
    "plt.xlabel('class')\n",
    "plt.ylabel('predict.')\n",
    "plt.show()"
   ]
  },
  {
   "cell_type": "code",
   "execution_count": 17,
   "metadata": {
    "colab": {
     "base_uri": "https://localhost:8080/"
    },
    "id": "DjSEByhg2tr4",
    "outputId": "d17b8ec1-3da0-478b-cdee-baf47cc82a3e"
   },
   "outputs": [
    {
     "name": "stdout",
     "output_type": "stream",
     "text": [
      "가방\n"
     ]
    }
   ],
   "source": [
    "classes = ['티셔츠', '바지', '스웨터', '드레스', '코트',\n",
    "           '샌달', '셔츠', '스니커즈', '가방', '앵클 부츠']\n",
    "\n",
    "\n",
    "print(classes[np.argmax(pred)])"
   ]
  },
  {
   "cell_type": "markdown",
   "metadata": {
    "id": "6DViJgdk4gR_"
   },
   "source": [
    "# 모델 평가"
   ]
  },
  {
   "cell_type": "code",
   "execution_count": 18,
   "metadata": {
    "id": "iuKZ0Ou--Ujj"
   },
   "outputs": [
    {
     "name": "stdout",
     "output_type": "stream",
     "text": [
      "313/313 [==============================] - 4s 11ms/step - loss: 0.2387 - accuracy: 0.9176\n"
     ]
    },
    {
     "data": {
      "text/plain": [
       "[0.23873786628246307, 0.9175999760627747]"
      ]
     },
     "execution_count": 18,
     "metadata": {},
     "output_type": "execute_result"
    }
   ],
   "source": [
    "\n",
    "model.evaluate(xtest_scaled, ytest)    # 테스트 데이터 - 손실, 성능 지표(스케일링)\n"
   ]
  },
  {
   "cell_type": "code",
   "execution_count": null,
   "metadata": {
    "id": "hY-akHbm4i-P"
   },
   "outputs": [],
   "source": []
  }
 ],
 "metadata": {
  "accelerator": "GPU",
  "colab": {
   "collapsed_sections": [],
   "provenance": [],
   "toc_visible": true
  },
  "gpuClass": "standard",
  "kernelspec": {
   "display_name": "Python 3 (ipykernel)",
   "language": "python",
   "name": "python3"
  },
  "language_info": {
   "codemirror_mode": {
    "name": "ipython",
    "version": 3
   },
   "file_extension": ".py",
   "mimetype": "text/x-python",
   "name": "python",
   "nbconvert_exporter": "python",
   "pygments_lexer": "ipython3",
   "version": "3.8.13"
  }
 },
 "nbformat": 4,
 "nbformat_minor": 4
}
