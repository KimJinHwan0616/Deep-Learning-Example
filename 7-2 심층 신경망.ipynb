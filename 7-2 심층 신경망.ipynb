{
 "cells": [
  {
   "cell_type": "code",
   "execution_count": 1,
   "id": "22d6cded-d180-4c94-8d08-82bab204fd5f",
   "metadata": {},
   "outputs": [],
   "source": [
    "import tensorflow as tf\n",
    "from tensorflow import keras\n",
    "\n",
    "#   패키지 설치\n",
    "#   pip install tensorflow\n",
    "#   pip install keras\n",
    "\n",
    "tf.keras.utils.set_random_seed(42)\n",
    "tf.config.experimental.enable_op_determinism()"
   ]
  },
  {
   "cell_type": "markdown",
   "id": "c998cbf5-f966-4b0b-8b90-c5bef9522335",
   "metadata": {},
   "source": [
    "# (패션 MNIST)데이터 열기&분할\n",
    "- 0: 티셔츠, 1: 바지, 2: 스웨터, 3: 드레스, 4: 코트\n",
    "- 5: 샌들, 6: 셔츠, 7: 스니커즈, 8: 가방, 9: 부츠\n"
   ]
  },
  {
   "cell_type": "code",
   "execution_count": 2,
   "id": "6a6b28e9-6e93-44b2-8e0b-9e4d6871b79d",
   "metadata": {
    "tags": []
   },
   "outputs": [
    {
     "name": "stdout",
     "output_type": "stream",
     "text": [
      "(60000, 28, 28) (10000, 28, 28)\n"
     ]
    }
   ],
   "source": [
    "(xtrain_all, ytrain_all), (xtest, ytest) =\\\n",
    "    keras.datasets.fashion_mnist.load_data()\n",
    "\n",
    "print( xtrain_all.shape, xtest.shape )    # (훈련/검증/테스트 입력 샘플 갯수, 너비, 높이)"
   ]
  },
  {
   "cell_type": "markdown",
   "id": "a0599577-72f0-4ff5-9d92-ddb41132b69f",
   "metadata": {
    "tags": []
   },
   "source": [
    "# 데이터 스케일링(정규화)"
   ]
  },
  {
   "cell_type": "code",
   "execution_count": 3,
   "id": "75ec22c6-4de9-4d3f-95e7-9db5dc4744dc",
   "metadata": {},
   "outputs": [],
   "source": [
    "xtrain_all_scaled = xtrain_all / 255.0\n",
    "# xtest_scaled = xtest / 255.0"
   ]
  },
  {
   "cell_type": "markdown",
   "id": "7029b60b-377b-4242-8212-9a01fcfde697",
   "metadata": {},
   "source": [
    "# 데이터 분할(훈련 + 검증)"
   ]
  },
  {
   "cell_type": "code",
   "execution_count": 4,
   "id": "32411555-079a-47f2-a7c0-578087f30e2a",
   "metadata": {},
   "outputs": [
    {
     "name": "stdout",
     "output_type": "stream",
     "text": [
      "(48000, 28, 28) (12000, 28, 28) (10000, 28, 28)\n"
     ]
    }
   ],
   "source": [
    "from sklearn.model_selection import train_test_split\n",
    "\n",
    "xtrain, xval, ytrain, yval = train_test_split(\n",
    " \n",
    "    xtrain_all_scaled, ytrain_all    # x: 특성, y: 타겟\n",
    "    , test_size = 0.2       # 검증 데이터 비율(0~1)\n",
    "#    , stratify = target      # 훈련 데이터 클래스 비율 = 검증 데이터 클래스 비율\n",
    "    , random_state = 42    # 랜덤 시드\n",
    "    )\n",
    "\n",
    "print( xtrain.shape, xval.shape, xtest.shape )    # (훈련/검증/테스트 입력 샘플 갯수, 특성 개수)"
   ]
  },
  {
   "cell_type": "markdown",
   "id": "e86749f1-ebe4-4fec-8aeb-6b9a296c961d",
   "metadata": {
    "tags": []
   },
   "source": [
    "# 심층 신경망"
   ]
  },
  {
   "cell_type": "code",
   "execution_count": 5,
   "id": "1a8b82b7-11bd-49e4-b6bc-795eb2d46d51",
   "metadata": {},
   "outputs": [
    {
     "name": "stdout",
     "output_type": "stream",
     "text": [
      "Model: \"sequential\"\n",
      "_________________________________________________________________\n",
      " Layer (type)                Output Shape              Param #   \n",
      "=================================================================\n",
      " flatten (Flatten)           (None, 784)               0         \n",
      "                                                                 \n",
      " dense (Dense)               (None, 100)               78500     \n",
      "                                                                 \n",
      " dense_1 (Dense)             (None, 10)                1010      \n",
      "                                                                 \n",
      "=================================================================\n",
      "Total params: 79,510\n",
      "Trainable params: 79,510\n",
      "Non-trainable params: 0\n",
      "_________________________________________________________________\n"
     ]
    }
   ],
   "source": [
    "# 모델 생성\n",
    "model = keras.Sequential()\n",
    "\n",
    "# 입력층( 2차원 특성(너비, 높이) -> 1차원 특성(너비X높이) )\n",
    "model.add(\n",
    "    keras.layers.Flatten(input_shape = (28, 28))\n",
    ")\n",
    "\n",
    "\n",
    "# 은닉층\n",
    "model.add(\n",
    "    keras.layers.Dense(\n",
    "    100\n",
    "    , activation = 'relu')    \n",
    ")\n",
    "\n",
    "# 출력층\n",
    "model.add(\n",
    "    keras.layers.Dense(\n",
    "    10\n",
    "    , activation = 'softmax'    \n",
    "    )\n",
    ")\n",
    "\n",
    "# 모델 정보\n",
    "model.summary()\n",
    "\n",
    "###############\n",
    "# 층 이름(종류)    출력 크기(미니 배치 샘플 개수, 뉴런 개수)    파라미터 개수 = ( (왼쪽)뉴런 개수+1 ) X (오른쪽)뉴런 개수\n",
    "\n",
    "# 전체 파라미터 개수\n",
    "# 훈련 파라미터 개수\n",
    "# 훈련X 파라미터 개수\n",
    "###############"
   ]
  },
  {
   "cell_type": "code",
   "execution_count": 6,
   "id": "7875df44-fa38-48ef-ace5-48c901db3750",
   "metadata": {},
   "outputs": [
    {
     "name": "stdout",
     "output_type": "stream",
     "text": [
      "Epoch 1/5\n",
      "1500/1500 [==============================] - 33s 3ms/step - loss: 0.5273 - accuracy: 0.8135\n",
      "Epoch 2/5\n",
      "1500/1500 [==============================] - 3s 2ms/step - loss: 0.3949 - accuracy: 0.8584\n",
      "Epoch 3/5\n",
      "1500/1500 [==============================] - 3s 2ms/step - loss: 0.3557 - accuracy: 0.8719\n",
      "Epoch 4/5\n",
      "1500/1500 [==============================] - 3s 2ms/step - loss: 0.3307 - accuracy: 0.8794\n",
      "Epoch 5/5\n",
      "1500/1500 [==============================] - 3s 2ms/step - loss: 0.3096 - accuracy: 0.8866\n"
     ]
    },
    {
     "data": {
      "text/plain": [
       "<keras.callbacks.History at 0x7fea3deff2b0>"
      ]
     },
     "execution_count": 6,
     "metadata": {},
     "output_type": "execute_result"
    }
   ],
   "source": [
    "# 모델 설정\n",
    "adam = tf.keras.optimizers.Adam(\n",
    "    learning_rate = 0.001    # 학습률\n",
    "    , beta_1 = 0.9           # 모멘텀 최적화(그레디언트 지수 감소 평균 조절값)\n",
    "    , beta_2 = 0.999         # RMSprop(그레디언트 제곱 지수 감소 평균 조절값)\n",
    "    )\n",
    "\n",
    "model.compile(\n",
    "    loss = 'sparse_categorical_crossentropy' # 손실 함수(이진/다중 분류 + 원-핫 인코딩 )\n",
    "#   loss = 'binary/categorical_crossentropy' # 손실 함수(이진/다중 분류)\n",
    "    , metrics = 'accuracy'    # 성능 지표(정확도)\n",
    "    , optimizer = adam\n",
    "#    , optimizer = 'adam'\n",
    "    )\n",
    "\n",
    "# 모델 학습\n",
    "model.fit(xtrain, ytrain, epochs = 5)"
   ]
  },
  {
   "cell_type": "code",
   "execution_count": 7,
   "id": "ac13234f-806b-462b-ba10-69dffa424022",
   "metadata": {},
   "outputs": [
    {
     "name": "stdout",
     "output_type": "stream",
     "text": [
      "375/375 [==============================] - 11s 2ms/step - loss: 0.3500 - accuracy: 0.8733\n"
     ]
    },
    {
     "data": {
      "text/plain": [
       "[0.3500242233276367, 0.8732500076293945]"
      ]
     },
     "execution_count": 7,
     "metadata": {},
     "output_type": "execute_result"
    }
   ],
   "source": [
    "# 모델 평가\n",
    "model.evaluate(xval, yval) # 손실 함수, 성능 지표"
   ]
  },
  {
   "cell_type": "markdown",
   "id": "33404b04-f756-4c80-9ab5-671b90c697f7",
   "metadata": {},
   "source": [
    "# 정확도: 인공 신경망 < 심층 신경망"
   ]
  },
  {
   "cell_type": "code",
   "execution_count": null,
   "id": "0a76fd12-26c7-434d-8444-7dc0b07a5c50",
   "metadata": {},
   "outputs": [],
   "source": []
  }
 ],
 "metadata": {
  "kernelspec": {
   "display_name": "Python 3 (ipykernel)",
   "language": "python",
   "name": "python3"
  },
  "language_info": {
   "codemirror_mode": {
    "name": "ipython",
    "version": 3
   },
   "file_extension": ".py",
   "mimetype": "text/x-python",
   "name": "python",
   "nbconvert_exporter": "python",
   "pygments_lexer": "ipython3",
   "version": "3.8.13"
  }
 },
 "nbformat": 4,
 "nbformat_minor": 5
}
