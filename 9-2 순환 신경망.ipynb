{
  "nbformat": 4,
  "nbformat_minor": 0,
  "metadata": {
    "colab": {
      "provenance": [],
      "collapsed_sections": [],
      "toc_visible": true
    },
    "kernelspec": {
      "name": "python3",
      "display_name": "Python 3"
    },
    "language_info": {
      "name": "python"
    },
    "accelerator": "GPU",
    "gpuClass": "standard"
  },
  "cells": [
    {
      "cell_type": "code",
      "execution_count": null,
      "metadata": {
        "id": "kXzISBxc3l2P"
      },
      "outputs": [],
      "source": [
        "import tensorflow as tf\n",
        "tf.keras.utils.set_random_seed(42)\n",
        "tf.config.experimental.enable_op_determinism()\n",
        "from tensorflow import keras\n",
        "\n",
        "#   패키지 설치\n",
        "#   pip install tensorflow\n",
        "#   pip install keras"
      ]
    },
    {
      "cell_type": "code",
      "source": [
        "import pandas as pd\n",
        "import numpy as np\n",
        "import matplotlib.pyplot as plt\n",
        "\n",
        "# pd.__version__    # pandas 버전\n",
        "# np.__version__    # numpy 버전\n",
        "# plt.__version__   # matplotlib 버전"
      ],
      "metadata": {
        "id": "_7qqdyBmDQ-Q"
      },
      "execution_count": null,
      "outputs": []
    },
    {
      "cell_type": "markdown",
      "source": [
        "# (영화 IMDB)데이터\n",
        "데이터: 50000개\n",
        "- 긍정 리뷰: 25000개\n",
        "- 부정 리뷰: 25000개"
      ],
      "metadata": {
        "id": "JlrBtqxiDsSP"
      }
    },
    {
      "cell_type": "markdown",
      "source": [
        "### 데이터 분할(훈련 + 테스트)"
      ],
      "metadata": {
        "id": "nBvkQFR9D7e-"
      }
    },
    {
      "cell_type": "code",
      "source": [
        "from tensorflow.keras.datasets import imdb\n",
        "\n",
        "(xtrain_all, ytrain_all), (xtest, ytest) = imdb.load_data(\n",
        "    num_words=500)\n",
        "\n",
        "# 정보\n",
        "print(xtrain_all.shape, xtest.shape)    # (훈련/테스트 데이터 샘플 갯수, 특성 갯수)\n",
        "\n",
        "print( xtrain_all[0] )  # 첫 번째 리뷰 토큰\n",
        "print(len(xtrain_all[0]))  # 첫 번째 리뷰 토큰 개수\n",
        "print( ytrain_all[0:20] )  # 타겟 - 0: 부정, 1: 긍정"
      ],
      "metadata": {
        "colab": {
          "base_uri": "https://localhost:8080/"
        },
        "id": "xOxkeNmXDcvX",
        "outputId": "b312cdd8-6bb0-460d-f0ec-31332370a6de"
      },
      "execution_count": null,
      "outputs": [
        {
          "output_type": "stream",
          "name": "stdout",
          "text": [
            "Downloading data from https://storage.googleapis.com/tensorflow/tf-keras-datasets/imdb.npz\n",
            "17464789/17464789 [==============================] - 2s 0us/step\n",
            "(25000,) (25000,)\n",
            "[1, 14, 22, 16, 43, 2, 2, 2, 2, 65, 458, 2, 66, 2, 4, 173, 36, 256, 5, 25, 100, 43, 2, 112, 50, 2, 2, 9, 35, 480, 284, 5, 150, 4, 172, 112, 167, 2, 336, 385, 39, 4, 172, 2, 2, 17, 2, 38, 13, 447, 4, 192, 50, 16, 6, 147, 2, 19, 14, 22, 4, 2, 2, 469, 4, 22, 71, 87, 12, 16, 43, 2, 38, 76, 15, 13, 2, 4, 22, 17, 2, 17, 12, 16, 2, 18, 2, 5, 62, 386, 12, 8, 316, 8, 106, 5, 4, 2, 2, 16, 480, 66, 2, 33, 4, 130, 12, 16, 38, 2, 5, 25, 124, 51, 36, 135, 48, 25, 2, 33, 6, 22, 12, 215, 28, 77, 52, 5, 14, 407, 16, 82, 2, 8, 4, 107, 117, 2, 15, 256, 4, 2, 7, 2, 5, 2, 36, 71, 43, 2, 476, 26, 400, 317, 46, 7, 4, 2, 2, 13, 104, 88, 4, 381, 15, 297, 98, 32, 2, 56, 26, 141, 6, 194, 2, 18, 4, 226, 22, 21, 134, 476, 26, 480, 5, 144, 30, 2, 18, 51, 36, 28, 224, 92, 25, 104, 4, 226, 65, 16, 38, 2, 88, 12, 16, 283, 5, 16, 2, 113, 103, 32, 15, 16, 2, 19, 178, 32]\n",
            "218\n",
            "[1 0 0 1 0 0 1 0 1 0 1 0 0 0 0 0 1 1 0 1]\n"
          ]
        }
      ]
    },
    {
      "cell_type": "markdown",
      "source": [
        "### 데이터 분할(훈련 + 검증)"
      ],
      "metadata": {
        "id": "9PsM1mlUFRE3"
      }
    },
    {
      "cell_type": "code",
      "source": [
        "from sklearn.model_selection import train_test_split\n",
        "\n",
        "xtrain, xval, ytrain, yval = train_test_split(\n",
        " \n",
        "    xtrain_all, ytrain_all    # x: 특성, y: 타겟\n",
        "    , test_size = 0.2       # 검증 데이터 비율(0~1)\n",
        "#    , stratify = target      # 훈련 데이터 클래스 비율 = 검증 데이터 클래스 비율\n",
        "    , random_state=42\n",
        "    )\n",
        "    \n",
        "print(xtrain.shape, xval.shape)    # (훈련/검증 데이터 샘플 갯수, 특성 갯수)"
      ],
      "metadata": {
        "colab": {
          "base_uri": "https://localhost:8080/"
        },
        "id": "D1T9oV9QF3xl",
        "outputId": "b2b4556a-00d8-4be8-c823-29348b3fadab"
      },
      "execution_count": null,
      "outputs": [
        {
          "output_type": "stream",
          "name": "stdout",
          "text": [
            "(20000,) (5000,)\n"
          ]
        }
      ]
    },
    {
      "cell_type": "code",
      "source": [
        "lengths = np.array([len(x) for x in xtrain])  # 어휘 사전 길이\n",
        "\n",
        "print( np.mean(lengths), np.median(lengths) )  # 어휘 사전 길이 - 평균, 중앙값"
      ],
      "metadata": {
        "colab": {
          "base_uri": "https://localhost:8080/"
        },
        "id": "eupeCrbxGE-O",
        "outputId": "7e9e5bcf-7cf6-4949-dcff-45c10ef02c7e"
      },
      "execution_count": null,
      "outputs": [
        {
          "output_type": "stream",
          "name": "stdout",
          "text": [
            "239.00925 178.0\n"
          ]
        }
      ]
    },
    {
      "cell_type": "markdown",
      "source": [
        "### 그래프"
      ],
      "metadata": {
        "id": "6wIH2NLBG1j-"
      }
    },
    {
      "cell_type": "code",
      "source": [
        "plt.hist(lengths)\n",
        "plt.xlabel('length')\n",
        "plt.ylabel('frequency')\n",
        "\n",
        "plt.show()"
      ],
      "metadata": {
        "colab": {
          "base_uri": "https://localhost:8080/",
          "height": 279
        },
        "id": "F-3IEzQbGt8O",
        "outputId": "51b808c7-051d-40f1-e92e-5ae99a11d78a"
      },
      "execution_count": null,
      "outputs": [
        {
          "output_type": "display_data",
          "data": {
            "text/plain": [
              "<Figure size 432x288 with 1 Axes>"
            ],
            "image/png": "[encoded data removed]"
          },
          "metadata": {
            "needs_background": "light"
          }
        }
      ]
    },
    {
      "cell_type": "markdown",
      "source": [
        "## 패딩"
      ],
      "metadata": {
        "id": "yrCAK3zsLgxl"
      }
    },
    {
      "cell_type": "code",
      "source": [
        "from tensorflow.keras.preprocessing.sequence import pad_sequences\n",
        "\n",
        "xtrain_seq = pad_sequences(\n",
        "    xtrain\n",
        "    , maxlen=100    # 100↓ → 0 추가 & 100↑ → 100 )\n",
        "    , truncating = 'post'    # 앞: pre, 뒤: post\n",
        "    )\n",
        "\n",
        "xval_seq = pad_sequences(\n",
        "    xval\n",
        "    , maxlen=100    # 100↓ → 0 추가 & 100↑ → 100 )\n",
        "    , truncating = 'post'    # 앞: pre, 뒤: post\n",
        "    )  "
      ],
      "metadata": {
        "id": "EQsZglclG4U9"
      },
      "execution_count": null,
      "outputs": []
    },
    {
      "cell_type": "code",
      "execution_count": null,
      "metadata": {
        "colab": {
          "base_uri": "https://localhost:8080/"
        },
        "id": "3c86x0Yj6kQV",
        "outputId": "11f8a827-5705-47af-c477-e8524591d5f4"
      },
      "outputs": [
        {
          "output_type": "execute_result",
          "data": {
            "text/plain": [
              "(20000, 100)"
            ]
          },
          "metadata": {},
          "execution_count": 9
        }
      ],
      "source": [
        "xtrain_seq.shape  # 리뷰 길이: 100"
      ]
    },
    {
      "cell_type": "code",
      "source": [
        "xtrain_seq[0]  # 1번째 리뷰"
      ],
      "metadata": {
        "colab": {
          "base_uri": "https://localhost:8080/"
        },
        "id": "pwVaLSdBuoIc",
        "outputId": "b50e4762-629d-4eb8-bfb8-92a7ea93d92f"
      },
      "execution_count": null,
      "outputs": [
        {
          "output_type": "execute_result",
          "data": {
            "text/plain": [
              "array([  1,  73,  89,  81,  25,  60,   2,   6,  20, 141,  17,  14,  31,\n",
              "       127,  12,  60,  28,   2,   2,  66,  45,   6,  20,  15, 497,   8,\n",
              "        79,  17, 491,   8, 112,   6,   2,  20,  17,   2,   2,   4, 436,\n",
              "        20,   9,   2,   6,   2,   7, 493,   2,   6, 185, 250,  24,  55,\n",
              "         2,   5,  23, 350,   7,  15,  82,  24,  15,   2,  66,  10,  10,\n",
              "        45,   2,  15,   4,  20,   2,   8,  30,  17,   2,   5,   2,  17,\n",
              "         2, 190,   4,  20,   9,  43,  32,  99,   2,  18,  15,   8, 157,\n",
              "        46,  17,   2,   4,   2,   5,   2,   9,  32], dtype=int32)"
            ]
          },
          "metadata": {},
          "execution_count": 10
        }
      ]
    },
    {
      "cell_type": "code",
      "execution_count": null,
      "metadata": {
        "colab": {
          "base_uri": "https://localhost:8080/"
        },
        "id": "6t8kaDji6kQW",
        "outputId": "4172d76b-ce9e-4964-fc6b-eb288199f4d4"
      },
      "outputs": [
        {
          "output_type": "execute_result",
          "data": {
            "text/plain": [
              "[6, 2, 46, 7, 14, 20, 10, 10, 470, 158]"
            ]
          },
          "metadata": {},
          "execution_count": 11
        }
      ],
      "source": [
        "xtrain[0][-10:]  # 앞 부분 잘림"
      ]
    },
    {
      "cell_type": "code",
      "execution_count": null,
      "metadata": {
        "colab": {
          "base_uri": "https://localhost:8080/"
        },
        "id": "Emmoztwa6kQX",
        "outputId": "84d81e32-fe19-4618-b3bb-0a7227f5b692",
        "scrolled": true
      },
      "outputs": [
        {
          "output_type": "execute_result",
          "data": {
            "text/plain": [
              "array([  0,   0,   0,   0,   1,   2, 195,  19,  49,   2,   2, 190,   4,\n",
              "         2, 352,   2, 183,  10,  10,  13,  82,  79,   4,   2,  36,  71,\n",
              "       269,   8,   2,  25,  19,  49,   7,   4,   2,   2,   2,   2,   2,\n",
              "        10,  10,  48,  25,  40,   2,  11,   2,   2,  40,   2,   2,   5,\n",
              "         4,   2,   2,  95,  14, 238,  56, 129,   2,  10,  10,  21,   2,\n",
              "        94, 364, 352,   2,   2,  11, 190,  24, 484,   2,   7,  94, 205,\n",
              "       405,  10,  10,  87,   2,  34,  49,   2,   7,   2,   2,   2,   2,\n",
              "         2, 290,   2,  46,  48,  64,  18,   4,   2], dtype=int32)"
            ]
          },
          "metadata": {},
          "execution_count": 12
        }
      ],
      "source": [
        "# 6번째 리뷰\n",
        "xtrain_seq[5]"
      ]
    },
    {
      "cell_type": "markdown",
      "source": [
        "# 순환 신경망: 원-핫 인코딩"
      ],
      "metadata": {
        "id": "ksdCesg-JAg1"
      }
    },
    {
      "cell_type": "code",
      "source": [
        "# 확인용( 원-핫 인코딩 )\n",
        "xtrain_oh = keras.utils.to_categorical(xtrain_seq)\n",
        "xval_oh = keras.utils.to_categorical(xval_seq)\n",
        "\n",
        "print( xtrain_oh.shape, xval_oh.shape )\n",
        "xtrain_oh[0][0][:12]  # 첫 번째 토큰"
      ],
      "metadata": {
        "colab": {
          "base_uri": "https://localhost:8080/"
        },
        "id": "wZfNks2NNoLs",
        "outputId": "c4b72134-d744-40ad-f36a-e8b41811b113"
      },
      "execution_count": null,
      "outputs": [
        {
          "output_type": "stream",
          "name": "stdout",
          "text": [
            "(20000, 100, 500) (5000, 100, 500)\n"
          ]
        }
      ]
    },
    {
      "cell_type": "code",
      "source": [
        "model = keras.Sequential( name='모델 이름' )    # 모델 생성\n",
        "\n",
        "# 순환층 추가\n",
        "model.add(\n",
        "    keras.layers.SimpleRNN(\n",
        "    8\n",
        "    , activation='tanh'    # 활성화 함수(하이퍼볼릭 탄젠트)\n",
        "#   , dropout = 드롭아웃 비율\n",
        "    , return_sequences = False    # 타임스텝 은닉 상태(출력: True)\n",
        "    , input_shape = (100, 500)\n",
        "    )\n",
        ")\n",
        "\n",
        "# 출력층(분류)\n",
        "model.add(\n",
        "    keras.layers.Dense(\n",
        "    1\n",
        "    , activation = 'sigmoid'    # 활성화 함수(소프트맥스/시그모이드)\n",
        "    )\n",
        ")"
      ],
      "metadata": {
        "id": "eTv0my9tzZaY"
      },
      "execution_count": null,
      "outputs": []
    },
    {
      "cell_type": "code",
      "source": [
        "# 모델 정보\n",
        "model.summary()\n",
        "\n",
        "###############\n",
        "# 층 이름(종류)    출력층 크기( 미니 배치 샘플 개수, 층 뉴런 개수 )    파라미터 개수\n",
        "\n",
        "# 전체 파라미터 개수\n",
        "# 훈련 파라미터 개수\n",
        "# 훈련X 파라미터 개수\n",
        "###############"
      ],
      "metadata": {
        "colab": {
          "base_uri": "https://localhost:8080/"
        },
        "id": "fsCwGseUzy0o",
        "outputId": "6519cb8f-5cef-42bb-d452-bbec78dd322d"
      },
      "execution_count": null,
      "outputs": [
        {
          "output_type": "stream",
          "name": "stdout",
          "text": [
            "Model: \"모델 이름\"\n",
            "_________________________________________________________________\n",
            " Layer (type)                Output Shape              Param #   \n",
            "=================================================================\n",
            " simple_rnn (SimpleRNN)      (None, 8)                 4072      \n",
            "                                                                 \n",
            " dense (Dense)               (None, 1)                 9         \n",
            "                                                                 \n",
            "=================================================================\n",
            "Total params: 4,081\n",
            "Trainable params: 4,081\n",
            "Non-trainable params: 0\n",
            "_________________________________________________________________\n"
          ]
        }
      ]
    },
    {
      "cell_type": "code",
      "source": [
        "rms = keras.optimizers.RMSprop(\n",
        "    learning_rate = 1e-4    # 학습률\n",
        "    , rho = 0.9              # 지수 감소 비율\n",
        "    )\n",
        "\n",
        "# 모델 설정\n",
        "model.compile(\n",
        "#    loss = 'sparse_binary/categorical_crossentropy'    # 손실 함수(원-핫 인코딩 + 이진/다중 분류)\n",
        "   loss = 'binary_crossentropy'           # 손실 함수(이진/다중 분류)\n",
        "    , metrics = ['accuracy']                             # 성능 지표(정확도)\n",
        "   , optimizer = rms\n",
        "#    , optimizer = '옵티마이저'\n",
        "    )\n",
        "\n",
        "# 최적화 값 저장\n",
        "mc = keras.callbacks.ModelCheckpoint(\n",
        "    'best-simpleRNN-model.h5'                  # 모델\n",
        "    , monitor = 'val_loss'         # 성능 지표\n",
        "    , save_weights_only = False    # 전체(True: 가중치＆절편)\n",
        "    , save_best_only = True        # 가장 낮은 검증 점수  \n",
        "    )\n",
        "\n",
        "# 조기 종료\n",
        "es = keras.callbacks.EarlyStopping(\n",
        "    monitor = 'val_loss'    # 성능 지표\n",
        "    , patience = 3          # 성능 지표가 향상 되지 않는 최대 에포크 횟수\n",
        "    , restore_best_weights = True    # 최적화 가중치 복원\n",
        "    )\n",
        "\n",
        "# early_stopping_cb.stopped_epoch    # 조기 종료 에포크 횟수\n",
        "\n",
        "# 모델 학습(경사 하강법)\n",
        "\n",
        "history = model.fit(\n",
        "    xtrain_oh, ytrain\n",
        "    , epochs = 100\n",
        "    , batch_size = 64    # 미니배치 샘플 개수(32)\n",
        "    , verbose = 1          # 훈련 과정( 0: 생략, 2: 진행 막대 생략 )\n",
        "    , validation_data = (xval_oh, yval)    # 검증 데이터 - 손실, 정확도 추가\n",
        "    , callbacks = [mc, es]    # 콜백\n",
        "    )\n",
        "\n",
        "# 훈련 데이터 - 손실, 정확도\n",
        "\n",
        "model.evaluate(xval_oh, yval)    # 검증 데이터 - 손실, 정확도\n",
        "\n",
        "# history.history.keys()    # 성능 지표 목록(손실, 정확도)"
      ],
      "metadata": {
        "id": "C6WGoI_B0ldA"
      },
      "execution_count": null,
      "outputs": []
    },
    {
      "cell_type": "markdown",
      "source": [
        "# 순환 신경망: 단어 임베딩"
      ],
      "metadata": {
        "id": "97Wprfk1UPzB"
      }
    },
    {
      "cell_type": "code",
      "source": [
        "model = keras.Sequential( name='Recurrent' )    # 모델 생성\n",
        "\n",
        "model.add(keras.layers.Embedding(\n",
        "    500    # 어휘 사전 크기(=개수)\n",
        "    , 16    # 임베딩 벡터 크기\n",
        "    , input_length = 100  # 패딩\n",
        "    )\n",
        ")\n",
        "\n",
        "model.add(keras.layers.SimpleRNN(8))\n",
        "\n",
        "# 출력층 추가\n",
        "model.add(\n",
        "    keras.layers.Dense(\n",
        "        1\n",
        "        , activation='sigmoid'\n",
        "        )\n",
        "    )\n",
        "\n",
        "# 모델 정보\n",
        "model.summary()\n",
        "\n",
        "###############\n",
        "# 층 이름(종류)    출력 크기(미니 배치 샘플 개수, 뉴런 개수)    파라미터 개수 = ( (특성)뉴런 개수+1 ) X 뉴런 개수\n",
        "\n",
        "# 전체 파라미터 개수\n",
        "# 훈련 파라미터 개수\n",
        "# 훈련X 파라미터 개수\n",
        "###############"
      ],
      "metadata": {
        "colab": {
          "base_uri": "https://localhost:8080/",
          "height": 248
        },
        "id": "AQ3UrgXLWfmR",
        "outputId": "b087ed58-1997-4039-a9b4-1fd882716039"
      },
      "execution_count": null,
      "outputs": [
        {
          "output_type": "error",
          "ename": "NameError",
          "evalue": "ignored",
          "traceback": [
            "\u001b[0;31m---------------------------------------------------------------------------\u001b[0m",
            "\u001b[0;31mNameError\u001b[0m                                 Traceback (most recent call last)",
            "\u001b[0;32m<ipython-input-1-885db5202085>\u001b[0m in \u001b[0;36m<module>\u001b[0;34m\u001b[0m\n\u001b[0;32m----> 1\u001b[0;31m \u001b[0mmodel\u001b[0m \u001b[0;34m=\u001b[0m \u001b[0mkeras\u001b[0m\u001b[0;34m.\u001b[0m\u001b[0mSequential\u001b[0m\u001b[0;34m(\u001b[0m \u001b[0mname\u001b[0m\u001b[0;34m=\u001b[0m\u001b[0;34m'Recurrent'\u001b[0m \u001b[0;34m)\u001b[0m    \u001b[0;31m# 모델 생성\u001b[0m\u001b[0;34m\u001b[0m\u001b[0;34m\u001b[0m\u001b[0m\n\u001b[0m\u001b[1;32m      2\u001b[0m \u001b[0;34m\u001b[0m\u001b[0m\n\u001b[1;32m      3\u001b[0m model.add(keras.layers.Embedding(\n\u001b[1;32m      4\u001b[0m     \u001b[0;36m500\u001b[0m    \u001b[0;31m# 어휘 사전 크기(=개수)\u001b[0m\u001b[0;34m\u001b[0m\u001b[0;34m\u001b[0m\u001b[0m\n\u001b[1;32m      5\u001b[0m     \u001b[0;34m,\u001b[0m \u001b[0;36m16\u001b[0m    \u001b[0;31m# 임베딩 벡터 크기\u001b[0m\u001b[0;34m\u001b[0m\u001b[0;34m\u001b[0m\u001b[0m\n",
            "\u001b[0;31mNameError\u001b[0m: name 'keras' is not defined"
          ]
        }
      ]
    },
    {
      "cell_type": "code",
      "source": [
        "rms = keras.optimizers.RMSprop(\n",
        "    learning_rate = 1e-4    # 학습률\n",
        "    , rho = 0.9              # 지수 감소 비율\n",
        "    )\n",
        "\n",
        "# 모델 설정\n",
        "model.compile(\n",
        "#    loss = 'sparse_binary/categorical_crossentropy'    # 손실 함수(원-핫 인코딩 + 이진/다중 분류)\n",
        "   loss = 'binary_crossentropy'           # 손실 함수(이진/다중 분류)\n",
        "    , metrics = ['accuracy']                             # 성능 지표(정확도)\n",
        "   , optimizer = rms\n",
        "#    , optimizer = '옵티마이저'\n",
        "    )\n",
        "\n",
        "# 최적화 값 저장\n",
        "mc = keras.callbacks.ModelCheckpoint(\n",
        "    'best-simpleRNN-model.h5'                  # 모델\n",
        "    , monitor = 'val_loss'         # 성능 지표\n",
        "    , save_weights_only = False    # 전체(True: 가중치＆절편)\n",
        "    , save_best_only = True        # 가장 낮은 검증 점수  \n",
        "    )\n",
        "\n",
        "# 조기 종료\n",
        "es = keras.callbacks.EarlyStopping(\n",
        "    monitor = 'val_loss'    # 성능 지표\n",
        "    , patience = 3          # 성능 지표가 향상 되지 않는 최대 에포크 횟수\n",
        "    , restore_best_weights = True    # 최적화 가중치 복원\n",
        "    )\n",
        "\n",
        "# early_stopping_cb.stopped_epoch    # 조기 종료 에포크 횟수\n",
        "\n",
        "# 모델 학습(경사 하강법)\n",
        "\n",
        "history = model.fit(\n",
        "    xtrain_seq, ytrain\n",
        "    , epochs = 100\n",
        "    , batch_size = 64    # 미니배치 샘플 개수(32)\n",
        "    , verbose = 1          # 훈련 과정( 0: 생략, 2: 진행 막대 생략 )\n",
        "    , validation_data = (xval_seq, yval)    # 검증 데이터 - 손실, 정확도 추가\n",
        "    , callbacks = [mc, es]    # 콜백\n",
        "    )\n",
        "\n",
        "# 훈련 데이터 - 손실, 정확도\n",
        "\n",
        "model.evaluate(xval_seq, yval)    # 검증 데이터 - 손실, 정확도\n",
        "\n",
        "# history.history.keys()    # 성능 지표 목록(손실, 정확도)"
      ],
      "metadata": {
        "id": "6QfrlyySOxP6",
        "colab": {
          "base_uri": "https://localhost:8080/",
          "height": 248
        },
        "outputId": "76f082d8-b964-4dde-c26d-753e20acf948"
      },
      "execution_count": null,
      "outputs": [
        {
          "output_type": "error",
          "ename": "NameError",
          "evalue": "ignored",
          "traceback": [
            "\u001b[0;31m---------------------------------------------------------------------------\u001b[0m",
            "\u001b[0;31mNameError\u001b[0m                                 Traceback (most recent call last)",
            "\u001b[0;32m<ipython-input-1-3758bc4d0b07>\u001b[0m in \u001b[0;36m<module>\u001b[0;34m\u001b[0m\n\u001b[0;32m----> 1\u001b[0;31m rms = keras.optimizers.RMSprop(\n\u001b[0m\u001b[1;32m      2\u001b[0m     \u001b[0mlearning_rate\u001b[0m \u001b[0;34m=\u001b[0m \u001b[0;36m1e-4\u001b[0m    \u001b[0;31m# 학습률\u001b[0m\u001b[0;34m\u001b[0m\u001b[0;34m\u001b[0m\u001b[0m\n\u001b[1;32m      3\u001b[0m     \u001b[0;34m,\u001b[0m \u001b[0mrho\u001b[0m \u001b[0;34m=\u001b[0m \u001b[0;36m0.9\u001b[0m              \u001b[0;31m# 지수 감소 비율\u001b[0m\u001b[0;34m\u001b[0m\u001b[0;34m\u001b[0m\u001b[0m\n\u001b[1;32m      4\u001b[0m     )\n\u001b[1;32m      5\u001b[0m \u001b[0;34m\u001b[0m\u001b[0m\n",
            "\u001b[0;31mNameError\u001b[0m: name 'keras' is not defined"
          ]
        }
      ]
    },
    {
      "cell_type": "markdown",
      "source": [
        "### 그래프"
      ],
      "metadata": {
        "id": "x3-p4iG0X9An"
      }
    },
    {
      "cell_type": "code",
      "source": [
        "# 손실\n",
        "plt.plot(history.history['loss'])\n",
        "plt.plot(history.history['val_loss'])\n",
        "plt.xlabel('epoch')\n",
        "plt.ylabel('loss')\n",
        "plt.legend(['train', 'val'])\n",
        "plt.show()"
      ],
      "metadata": {
        "colab": {
          "base_uri": "https://localhost:8080/",
          "height": 248
        },
        "id": "mv9l0AwvXxBe",
        "outputId": "b2ce54a5-f208-4e62-8ff5-9f3dfc5e9ac1"
      },
      "execution_count": null,
      "outputs": [
        {
          "output_type": "error",
          "ename": "NameError",
          "evalue": "ignored",
          "traceback": [
            "\u001b[0;31m---------------------------------------------------------------------------\u001b[0m",
            "\u001b[0;31mNameError\u001b[0m                                 Traceback (most recent call last)",
            "\u001b[0;32m<ipython-input-2-686e3e1b9fc2>\u001b[0m in \u001b[0;36m<module>\u001b[0;34m\u001b[0m\n\u001b[1;32m      1\u001b[0m \u001b[0;31m# 손실\u001b[0m\u001b[0;34m\u001b[0m\u001b[0;34m\u001b[0m\u001b[0;34m\u001b[0m\u001b[0m\n\u001b[0;32m----> 2\u001b[0;31m \u001b[0mplt\u001b[0m\u001b[0;34m.\u001b[0m\u001b[0mplot\u001b[0m\u001b[0;34m(\u001b[0m\u001b[0mhistory\u001b[0m\u001b[0;34m.\u001b[0m\u001b[0mhistory\u001b[0m\u001b[0;34m[\u001b[0m\u001b[0;34m'loss'\u001b[0m\u001b[0;34m]\u001b[0m\u001b[0;34m)\u001b[0m\u001b[0;34m\u001b[0m\u001b[0;34m\u001b[0m\u001b[0m\n\u001b[0m\u001b[1;32m      3\u001b[0m \u001b[0mplt\u001b[0m\u001b[0;34m.\u001b[0m\u001b[0mplot\u001b[0m\u001b[0;34m(\u001b[0m\u001b[0mhistory\u001b[0m\u001b[0;34m.\u001b[0m\u001b[0mhistory\u001b[0m\u001b[0;34m[\u001b[0m\u001b[0;34m'val_loss'\u001b[0m\u001b[0;34m]\u001b[0m\u001b[0;34m)\u001b[0m\u001b[0;34m\u001b[0m\u001b[0;34m\u001b[0m\u001b[0m\n\u001b[1;32m      4\u001b[0m \u001b[0mplt\u001b[0m\u001b[0;34m.\u001b[0m\u001b[0mxlabel\u001b[0m\u001b[0;34m(\u001b[0m\u001b[0;34m'epoch'\u001b[0m\u001b[0;34m)\u001b[0m\u001b[0;34m\u001b[0m\u001b[0;34m\u001b[0m\u001b[0m\n\u001b[1;32m      5\u001b[0m \u001b[0mplt\u001b[0m\u001b[0;34m.\u001b[0m\u001b[0mylabel\u001b[0m\u001b[0;34m(\u001b[0m\u001b[0;34m'loss'\u001b[0m\u001b[0;34m)\u001b[0m\u001b[0;34m\u001b[0m\u001b[0;34m\u001b[0m\u001b[0m\n",
            "\u001b[0;31mNameError\u001b[0m: name 'plt' is not defined"
          ]
        }
      ]
    }
  ]
}