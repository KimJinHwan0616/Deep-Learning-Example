{
  "cells": [
    {
      "cell_type": "code",
      "execution_count": null,
      "id": "22d6cded-d180-4c94-8d08-82bab204fd5f",
      "metadata": {
        "id": "22d6cded-d180-4c94-8d08-82bab204fd5f"
      },
      "outputs": [],
      "source": [
        "import tensorflow as tf\n",
        "from tensorflow import keras\n",
        "\n",
        "#   패키지 설치\n",
        "#   pip install tensorflow\n",
        "#   pip install keras\n",
        "\n",
        "tf.keras.utils.set_random_seed(42)\n",
        "tf.config.experimental.enable_op_determinism()"
      ]
    },
    {
      "cell_type": "markdown",
      "id": "151fe43a-a768-4d4b-bb59-3a4b7a661325",
      "metadata": {
        "id": "151fe43a-a768-4d4b-bb59-3a4b7a661325"
      },
      "source": [
        "# (패션 MNIST)데이터 열기&분할\n",
        "- 0: 티셔츠, 1: 바지, 2: 스웨터, 3: 드레스, 4: 코트\n",
        "- 5: 샌들, 6: 셔츠, 7: 스니커즈, 8: 가방, 9: 부츠\n"
      ]
    },
    {
      "cell_type": "code",
      "execution_count": null,
      "id": "f931cf03-22f3-4df1-8d4e-36ae7f9bcda4",
      "metadata": {
        "tags": [],
        "colab": {
          "base_uri": "https://localhost:8080/"
        },
        "id": "f931cf03-22f3-4df1-8d4e-36ae7f9bcda4",
        "outputId": "6c5019a4-b2e2-4ed9-978d-37b13922a9c3"
      },
      "outputs": [
        {
          "output_type": "stream",
          "name": "stdout",
          "text": [
            "Downloading data from https://storage.googleapis.com/tensorflow/tf-keras-datasets/train-labels-idx1-ubyte.gz\n",
            "29515/29515 [==============================] - 0s 0us/step\n",
            "Downloading data from https://storage.googleapis.com/tensorflow/tf-keras-datasets/train-images-idx3-ubyte.gz\n",
            "26421880/26421880 [==============================] - 2s 0us/step\n",
            "Downloading data from https://storage.googleapis.com/tensorflow/tf-keras-datasets/t10k-labels-idx1-ubyte.gz\n",
            "5148/5148 [==============================] - 0s 0us/step\n",
            "Downloading data from https://storage.googleapis.com/tensorflow/tf-keras-datasets/t10k-images-idx3-ubyte.gz\n",
            "4422102/4422102 [==============================] - 0s 0us/step\n",
            "(60000, 28, 28) (10000, 28, 28)\n"
          ]
        }
      ],
      "source": [
        "(xtrain_all, ytrain_all), (xtest, ytest) =\\\n",
        "    keras.datasets.fashion_mnist.load_data()\n",
        "\n",
        "print( xtrain_all.shape, xtest.shape )    # (훈련/검증/테스트 입력 샘플 갯수, 너비, 높이)"
      ]
    },
    {
      "cell_type": "markdown",
      "id": "e5fa4a10-e214-4c59-b57b-13289981a424",
      "metadata": {
        "tags": [],
        "id": "e5fa4a10-e214-4c59-b57b-13289981a424"
      },
      "source": [
        "# 데이터 스케일링(정규화)"
      ]
    },
    {
      "cell_type": "code",
      "execution_count": null,
      "id": "1a264768-e214-401d-9676-2307ba5ec5ce",
      "metadata": {
        "id": "1a264768-e214-401d-9676-2307ba5ec5ce"
      },
      "outputs": [],
      "source": [
        "xtrain_all_scaled = xtrain_all / 255.0\n",
        "# xtest_scaled = xtest / 255.0"
      ]
    },
    {
      "cell_type": "markdown",
      "id": "ad9fd88b-6a4a-4401-b827-29bccfbbac4d",
      "metadata": {
        "id": "ad9fd88b-6a4a-4401-b827-29bccfbbac4d"
      },
      "source": [
        "# 데이터 분할(훈련 + 검증)"
      ]
    },
    {
      "cell_type": "code",
      "execution_count": null,
      "id": "bfc5cccf-9d5d-45e6-a45d-309a368b1fda",
      "metadata": {
        "colab": {
          "base_uri": "https://localhost:8080/"
        },
        "id": "bfc5cccf-9d5d-45e6-a45d-309a368b1fda",
        "outputId": "fdb3e927-c3b0-4de7-b042-bad85f6e8ba1"
      },
      "outputs": [
        {
          "output_type": "stream",
          "name": "stdout",
          "text": [
            "(48000, 28, 28) (12000, 28, 28) (10000, 28, 28)\n"
          ]
        }
      ],
      "source": [
        "from sklearn.model_selection import train_test_split\n",
        "\n",
        "xtrain, xval, ytrain, yval = train_test_split(\n",
        " \n",
        "    xtrain_all_scaled, ytrain_all    # x: 특성, y: 타겟\n",
        "    , test_size = 0.2       # 검증 데이터 비율(0~1)\n",
        "#    , stratify = target      # 훈련 데이터 클래스 비율 = 검증 데이터 클래스 비율\n",
        "    , random_state = 42    # 랜덤 시드\n",
        "    )\n",
        "\n",
        "print( xtrain.shape, xval.shape, xtest.shape )    # (훈련/검증/테스트 입력 샘플 갯수, 특성 개수)"
      ]
    },
    {
      "cell_type": "markdown",
      "id": "63f564d0-5044-48ae-b2c6-5ade3b38a2e6",
      "metadata": {
        "id": "63f564d0-5044-48ae-b2c6-5ade3b38a2e6"
      },
      "source": [
        "# 심층 신경망"
      ]
    },
    {
      "cell_type": "markdown",
      "id": "2ac39969-30ad-4d38-8852-f5c20fc4777a",
      "metadata": {
        "id": "2ac39969-30ad-4d38-8852-f5c20fc4777a"
      },
      "source": [
        "### 함수"
      ]
    },
    {
      "cell_type": "code",
      "execution_count": null,
      "id": "59e0c2b0-f94e-4bbd-acd4-c99d9ccef4e4",
      "metadata": {
        "id": "59e0c2b0-f94e-4bbd-acd4-c99d9ccef4e4"
      },
      "outputs": [],
      "source": [
        "def model_fn(a_layer=None):\n",
        "    \n",
        "    model = keras.Sequential()\n",
        "    \n",
        "    model.add(keras.layers.Flatten(input_shape=(28, 28)))\n",
        "    model.add(keras.layers.Dense(100, activation='relu'))\n",
        "    \n",
        "    if a_layer:\n",
        "        model.add(a_layer)\n",
        "    model.add(keras.layers.Dense(10, activation='softmax'))\n",
        "    return model"
      ]
    },
    {
      "cell_type": "code",
      "execution_count": null,
      "id": "ea34addc-6b15-4ade-8752-f35f9a9f60cb",
      "metadata": {
        "colab": {
          "base_uri": "https://localhost:8080/"
        },
        "id": "ea34addc-6b15-4ade-8752-f35f9a9f60cb",
        "outputId": "b7c326c2-fc3c-402c-f40d-b254e6ffb4df"
      },
      "outputs": [
        {
          "output_type": "stream",
          "name": "stdout",
          "text": [
            "Model: \"sequential\"\n",
            "_________________________________________________________________\n",
            " Layer (type)                Output Shape              Param #   \n",
            "=================================================================\n",
            " flatten (Flatten)           (None, 784)               0         \n",
            "                                                                 \n",
            " dense (Dense)               (None, 100)               78500     \n",
            "                                                                 \n",
            " dropout (Dropout)           (None, 100)               0         \n",
            "                                                                 \n",
            " dense_1 (Dense)             (None, 10)                1010      \n",
            "                                                                 \n",
            "=================================================================\n",
            "Total params: 79,510\n",
            "Trainable params: 79,510\n",
            "Non-trainable params: 0\n",
            "_________________________________________________________________\n"
          ]
        }
      ],
      "source": [
        "# 층(드롭아웃)\n",
        "model = model_fn(\n",
        "    keras.layers.Dropout(0.3)    # 30% 드롭아웃\n",
        "    )\n",
        "\n",
        "model.summary()"
      ]
    },
    {
      "cell_type": "code",
      "execution_count": null,
      "id": "592f447d-8980-49b7-b86c-72a5e3785e33",
      "metadata": {
        "colab": {
          "base_uri": "https://localhost:8080/"
        },
        "id": "592f447d-8980-49b7-b86c-72a5e3785e33",
        "outputId": "2786688a-b159-4d5b-c634-7b0d5c626f15"
      },
      "outputs": [
        {
          "output_type": "stream",
          "name": "stdout",
          "text": [
            "dict_keys(['loss', 'accuracy', 'val_loss', 'val_accuracy'])\n"
          ]
        },
        {
          "output_type": "execute_result",
          "data": {
            "text/plain": [
              "12"
            ]
          },
          "metadata": {},
          "execution_count": 13
        }
      ],
      "source": [
        "model = model_fn(\n",
        "    keras.layers.Dropout(0.3)    # 30% 드롭아웃\n",
        "    )\n",
        "\n",
        "# model.summary()\n",
        "\n",
        "# adam = tf.keras.optimizers.experimental.Adam(\n",
        "#    learning_rate = 0.001    # 학습률\n",
        "#    , beta_1 = 0.9           # 모멘텀 최적화(그레디언트 지수 감소 평균 조절값)\n",
        "#    , beta_2 = 0.999         # RMSprop(그레디언트 제곱 지수 감소 평균 조절값)\n",
        "#    )\n",
        "\n",
        "# 모델 설정\n",
        "model.compile(\n",
        "    loss = 'sparse_categorical_crossentropy'    # 손실 함수(원-핫 인코딩 + 이진/다중 분류)\n",
        "#   loss = 'binary/categorical_crossentropy'           # 손실 함수(이진/다중 분류)\n",
        "    , metrics = 'accuracy'                             # 성능 지표(정확도)\n",
        "#    , optimizer = adam\n",
        "    , optimizer = 'adam'\n",
        "    )\n",
        "\n",
        "# 콜백\n",
        "callbacks = keras.callbacks.ModelCheckpoint(\n",
        "    'best-model.h5'                  # 모델\n",
        "    , monitor = 'val_loss'         # 성능 지표\n",
        "    , save_weights_only = False    # 전체(True: 가중치＆절편)\n",
        "    , save_best_only = True        # 가장 낮은 검증 점수  \n",
        "    )\n",
        "\n",
        "# 조기 종료\n",
        "early_stopping = keras.callbacks.EarlyStopping(\n",
        "    monitor = 'val_loss'    # 성능 지표\n",
        "    , patience = 2          # 성능 지표가 향상 되지 않는 최대 에포크 횟수\n",
        "   , restore_best_weights = True    # 최적화 가중치 복원\n",
        "    )\n",
        "\n",
        "# 모델 학습(경사 하강법)\n",
        "history = model.fit(\n",
        "    xtrain, ytrain\n",
        "    , epochs = 20\n",
        "    , batch_size = 32    # 미니배치 샘플 개수(32)\n",
        "    , validation_data=(xval, yval)\n",
        "    , verbose = 0\n",
        "    , callbacks = [callbacks, early_stopping]  # 콜백 변수\n",
        "    )\n",
        "\n",
        "print( history.history.keys() )\n",
        "early_stopping.stopped_epoch  # 몇 번째 에포크에서 훈련이 중지되었는지 확인"
      ]
    },
    {
      "cell_type": "code",
      "execution_count": null,
      "id": "iQXRFQFcznK3",
      "metadata": {
        "colab": {
          "base_uri": "https://localhost:8080/"
        },
        "id": "iQXRFQFcznK3",
        "outputId": "582dc302-1cfd-4a93-d344-1bf16769584d"
      },
      "outputs": [
        {
          "output_type": "stream",
          "name": "stdout",
          "text": [
            "375/375 [==============================] - 1s 2ms/step - loss: 0.3255 - accuracy: 0.8794\n"
          ]
        },
        {
          "output_type": "execute_result",
          "data": {
            "text/plain": [
              "[0.3255222737789154, 0.8794166445732117]"
            ]
          },
          "metadata": {},
          "execution_count": 14
        }
      ],
      "source": [
        "model.evaluate(xval, yval)    # 검증 데이터 - 손실 함수, 성능 지표"
      ]
    },
    {
      "cell_type": "markdown",
      "id": "3b41b79c-bfbe-45bc-99af-2cb99f5e79c8",
      "metadata": {
        "id": "3b41b79c-bfbe-45bc-99af-2cb99f5e79c8"
      },
      "source": [
        "### 그래프"
      ]
    },
    {
      "cell_type": "code",
      "execution_count": null,
      "id": "c858cdaf-ef7d-4229-a47f-d68779cd555f",
      "metadata": {
        "colab": {
          "base_uri": "https://localhost:8080/",
          "height": 279
        },
        "id": "c858cdaf-ef7d-4229-a47f-d68779cd555f",
        "outputId": "e07a4e5f-df5e-40b4-a133-ca2d4e6422d5"
      },
      "outputs": [
        {
          "output_type": "display_data",
          "data": {
            "text/plain": [
              "<Figure size 432x288 with 1 Axes>"
            ],
            "image/png": "[encoded data removed]"
          },
          "metadata": {
            "needs_background": "light"
          }
        }
      ],
      "source": [
        "# 손실\n",
        "import matplotlib.pyplot as plt\n",
        "\n",
        "plt.plot(history.history['loss'])\n",
        "plt.plot(history.history['val_loss'])\n",
        "plt.xlabel('epoch')\n",
        "plt.ylabel('loss')\n",
        "plt.legend(['train', 'val'])\n",
        "plt.show()"
      ]
    },
    {
      "cell_type": "markdown",
      "id": "24d6b44e-838c-42cc-b91d-d13463f4a214",
      "metadata": {
        "id": "24d6b44e-838c-42cc-b91d-d13463f4a214"
      },
      "source": [
        "# 모델 저장"
      ]
    },
    {
      "cell_type": "code",
      "execution_count": null,
      "id": "529c28d0-6c35-4004-b6a5-69665c796440",
      "metadata": {
        "id": "529c28d0-6c35-4004-b6a5-69665c796440"
      },
      "outputs": [],
      "source": [
        "# 확장자: .h5\n",
        "model.save('model-whole.h5') # 전체\n",
        "model.save_weights('model-weights.h5') # 가중치"
      ]
    },
    {
      "cell_type": "code",
      "execution_count": null,
      "id": "cef6b545-0d5c-4ca0-8b18-351d67cbc3e4",
      "metadata": {
        "colab": {
          "base_uri": "https://localhost:8080/"
        },
        "id": "cef6b545-0d5c-4ca0-8b18-351d67cbc3e4",
        "outputId": "7d16e912-0ef5-49b8-d164-e36219db0e58"
      },
      "outputs": [
        {
          "output_type": "stream",
          "name": "stdout",
          "text": [
            "ls: cannot access '-': No such file or directory\n",
            "ls: cannot access 'al': No such file or directory\n",
            "best-model.h5  model-weights.h5  model-whole.h5\n"
          ]
        }
      ],
      "source": [
        "# 모델 확인\n",
        "!ls - al *.h5"
      ]
    },
    {
      "cell_type": "markdown",
      "id": "JSt-aNrEn5ey",
      "metadata": {
        "id": "JSt-aNrEn5ey"
      },
      "source": [
        "# 모델 불러오기"
      ]
    },
    {
      "cell_type": "code",
      "execution_count": null,
      "id": "0ce08d7e-24d1-4963-a50a-69ff02d267d8",
      "metadata": {
        "colab": {
          "base_uri": "https://localhost:8080/"
        },
        "id": "0ce08d7e-24d1-4963-a50a-69ff02d267d8",
        "outputId": "1a693eba-937e-4988-e706-2252f0ab62ff"
      },
      "outputs": [
        {
          "output_type": "stream",
          "name": "stdout",
          "text": [
            "375/375 [==============================] - 1s 1ms/step\n"
          ]
        },
        {
          "output_type": "execute_result",
          "data": {
            "text/plain": [
              "0.8794166666666666"
            ]
          },
          "metadata": {},
          "execution_count": 24
        }
      ],
      "source": [
        "model.load_weights('model-weights.h5')  # 파라미터\n",
        "\n",
        "import numpy as np\n",
        "val_labels = np.argmax(\n",
        "    model.predict(xval)\n",
        "    , axis = -1  # 행 최댓값\n",
        "    )\n",
        "\n",
        "np.mean(val_labels == yval)"
      ]
    },
    {
      "cell_type": "code",
      "execution_count": null,
      "id": "8m-8ipj0iPIf",
      "metadata": {
        "colab": {
          "base_uri": "https://localhost:8080/"
        },
        "id": "8m-8ipj0iPIf",
        "outputId": "ffce81cc-79f7-438a-d153-374b490cfc04"
      },
      "outputs": [
        {
          "output_type": "stream",
          "name": "stdout",
          "text": [
            "375/375 [==============================] - 1s 2ms/step - loss: 0.3255 - accuracy: 0.8794\n"
          ]
        },
        {
          "output_type": "execute_result",
          "data": {
            "text/plain": [
              "[0.3255222737789154, 0.8794166445732117]"
            ]
          },
          "metadata": {},
          "execution_count": 22
        }
      ],
      "source": [
        "model = keras.models.load_model('model-whole.h5')  # 전체\n",
        "\n",
        "model.evaluate(xval, yval)    # 검증 데이터 - 손실 함수, 성능 지표"
      ]
    },
    {
      "cell_type": "code",
      "execution_count": null,
      "id": "KAlYcXhH2zsA",
      "metadata": {
        "id": "KAlYcXhH2zsA"
      },
      "outputs": [],
      "source": []
    }
  ],
  "metadata": {
    "accelerator": "GPU",
    "colab": {
      "collapsed_sections": [],
      "provenance": []
    },
    "gpuClass": "standard",
    "kernelspec": {
      "display_name": "Python 3 (ipykernel)",
      "language": "python",
      "name": "python3"
    },
    "language_info": {
      "codemirror_mode": {
        "name": "ipython",
        "version": 3
      },
      "file_extension": ".py",
      "mimetype": "text/x-python",
      "name": "python",
      "nbconvert_exporter": "python",
      "pygments_lexer": "ipython3",
      "version": "3.8.13"
    }
  },
  "nbformat": 4,
  "nbformat_minor": 5
}